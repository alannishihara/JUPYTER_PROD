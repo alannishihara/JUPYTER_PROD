# AN_CRAPS.py

from random import randint

def main():
    s = ''
    while not s or s[0] in 'Yy':
        play_the_game()
        s = input('Play again? (Y or N): ')

def play_the_game():
    r = roll();
    if r == 7 or r == 11:
        print(r, 'You rolled a ', r, 'and WON!\n')
        return
    elif r == 2 or r == 3 or r == 12:
        print(r, 'You rolled CRAPS! You Lose!\n')
        return
    else:
        print('The POINT is:', r)
    
    point = r
    
    while True:
        s = input("\nEnter <E> to exit, or enter any other key to continue: ")
        if len(s) > 0 and s[0] in 'Ee':
            return
        r = roll()
        print('You rolled a ', r)
        if r == point:
            print('You rolled the POINT and WON!\n')
            return
        elif r == 7:
            print('SEVEN OUT; you lose!\n')        
            return
        
def roll():
    d1 = randint(1, 6)
    d2 = randint(1, 6)
    print('\nDie 1 = ', d1, '/ ' 'Die 2 = ', d2)
    return d1 + d2

main()