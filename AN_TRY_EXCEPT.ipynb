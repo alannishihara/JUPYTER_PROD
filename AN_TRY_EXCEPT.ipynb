{
 "cells": [
  {
   "cell_type": "code",
   "execution_count": null,
   "id": "31840dcd-ea96-421a-b6f9-2963d7e3860c",
   "metadata": {},
   "outputs": [],
   "source": [
    "# AN_TRY_EXCEPT.py\n",
    "\n",
    "try:\n",
    "    x = input(\"\\nEnter a number to be used as the numerator: \")\n",
    "    x = float(x)\n",
    "    y = input(\"Enter a number to be used as the denominator: \")\n",
    "    y = float(y)\n",
    "    result = round((x / y), 8)\n",
    "    print(\"Result of calculation: \", result)\n",
    "except ZeroDivisionError:\n",
    "    print(\"\\nError: Division by zero error!\")\n",
    "except ValueError:\n",
    "    print(\"\\nError: Invalid value entered!\")\n",
    "else:\n",
    "    print(\"\\nNo errors or exceptions occurred\")\n",
    "finally:\n",
    "    print(\"\\n*** Python script run completed ***\\n\")"
   ]
  }
 ],
 "metadata": {
  "kernelspec": {
   "display_name": "Python 3 (ipykernel)",
   "language": "python",
   "name": "python3"
  },
  "language_info": {
   "codemirror_mode": {
    "name": "ipython",
    "version": 3
   },
   "file_extension": ".py",
   "mimetype": "text/x-python",
   "name": "python",
   "nbconvert_exporter": "python",
   "pygments_lexer": "ipython3",
   "version": "3.10.12"
  }
 },
 "nbformat": 4,
 "nbformat_minor": 5
}
