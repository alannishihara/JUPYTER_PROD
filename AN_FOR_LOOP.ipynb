{
 "cells": [
  {
   "cell_type": "code",
   "execution_count": null,
   "id": "f4f67889-1012-408e-b0be-01bdf96722cf",
   "metadata": {},
   "outputs": [],
   "source": [
    "# for letter in 'HELLO!':\n",
    "#     print(letter)\n",
    "\n",
    "while True:\n",
    "    name = input('\\nPlease enter your name: ')\n",
    "    if name == 'Tom':\n",
    "        print('\\n\\tAccess GRANTED, ' + name + '!')\n",
    "    else:\n",
    "        print('\\n\\tAccess DENIED, ' + name + '!')"
   ]
  }
 ],
 "metadata": {
  "kernelspec": {
   "display_name": "Python 3 (ipykernel)",
   "language": "python",
   "name": "python3"
  },
  "language_info": {
   "codemirror_mode": {
    "name": "ipython",
    "version": 3
   },
   "file_extension": ".py",
   "mimetype": "text/x-python",
   "name": "python",
   "nbconvert_exporter": "python",
   "pygments_lexer": "ipython3",
   "version": "3.10.11"
  }
 },
 "nbformat": 4,
 "nbformat_minor": 5
}
