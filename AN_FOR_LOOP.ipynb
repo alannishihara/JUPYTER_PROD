{
 "cells": [
  {
   "cell_type": "code",
   "execution_count": null,
   "id": "8d4b4e85-dc4f-4e7a-9c38-c997558f6e9c",
   "metadata": {},
   "outputs": [],
   "source": [
    "# for letter in 'HELLO!':\n",
    "#     print(letter)\n",
    "\n",
    "while True:\n",
    "    name = input('\\nPlease enter your name: ')\n",
    "    if name == 'Tom':\n",
    "        print('\\n\\tAccess GRANTED, ' + name + '!')\n",
    "    else:\n",
    "        print('\\n\\tAccess DENIED, ' + name + '!')"
   ]
  }
 ],
 "metadata": {
  "kernelspec": {
   "display_name": "Python 3 (ipykernel)",
   "language": "python",
   "name": "python3"
  },
  "language_info": {
   "codemirror_mode": {
    "name": "ipython",
    "version": 3
   },
   "file_extension": ".py",
   "mimetype": "text/x-python",
   "name": "python",
   "nbconvert_exporter": "python",
   "pygments_lexer": "ipython3",
   "version": "3.10.12"
  }
 },
 "nbformat": 4,
 "nbformat_minor": 5
}
