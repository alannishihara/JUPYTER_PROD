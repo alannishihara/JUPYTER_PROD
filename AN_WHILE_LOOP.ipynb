{
 "cells": [
  {
   "cell_type": "code",
   "execution_count": null,
   "id": "86f4530e-dd43-48d9-b3f4-fa2bf4dc4852",
   "metadata": {},
   "outputs": [],
   "source": [
    "answer = 7\n",
    "\n",
    "while True:\n",
    "    guess1 = input(\"\\nEnter a number between 1 and 10: \")\n",
    "    guess2 = int(guess1)\n",
    "    diff = guess2 - answer\n",
    "    if guess2 == answer:\n",
    "       print(f\"\\nYou are CORRECT!\\n\")\n",
    "    elif guess2 < answer:\n",
    "       print(f\"\\nSorry, you are too LOW by {abs(diff)}\\n\")\n",
    "    elif guess2 > answer:\n",
    "        print(f\"\\nSorry, you are too HIGH by {abs(diff)}\\n\")\n",
    "    break"
   ]
  }
 ],
 "metadata": {
  "kernelspec": {
   "display_name": "Python 3 (ipykernel)",
   "language": "python",
   "name": "python3"
  },
  "language_info": {
   "codemirror_mode": {
    "name": "ipython",
    "version": 3
   },
   "file_extension": ".py",
   "mimetype": "text/x-python",
   "name": "python",
   "nbconvert_exporter": "python",
   "pygments_lexer": "ipython3",
   "version": "3.10.12"
  }
 },
 "nbformat": 4,
 "nbformat_minor": 5
}
