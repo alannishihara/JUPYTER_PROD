answer = 7

while True:
    guess1 = input("\nEnter a number between 1 and 10: ")
    guess2 = int(guess1)
    diff = guess2 - answer
    if guess2 == answer:
       print(f"\nYou are CORRECT!\n")
    elif guess2 < answer:
       print(f"\nSorry, you are too LOW by {abs(diff)}\n")
    elif guess2 > answer:
        print(f"\nSorry, you are too HIGH by {abs(diff)}\n")
    break