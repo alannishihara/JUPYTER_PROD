{
 "cells": [
  {
   "cell_type": "code",
   "execution_count": null,
   "id": "b88f831e-085e-4cf6-a0eb-ca33ee21445e",
   "metadata": {},
   "outputs": [],
   "source": [
    "# AN_CRAPS.py\n",
    "\n",
    "from random import randint\n",
    "\n",
    "def main():\n",
    "    s = ''\n",
    "    while not s or s[0] in 'Yy':\n",
    "        play_the_game()\n",
    "        s = input('Play again? (Y or N): ')\n",
    "\n",
    "def play_the_game():\n",
    "    r = roll();\n",
    "    if r == 7 or r == 11:\n",
    "        print(r, 'You rolled a ', r, 'and WON!\\n')\n",
    "        return\n",
    "    elif r == 2 or r == 3 or r == 12:\n",
    "        print(r, 'You rolled CRAPS! You Lose!\\n')\n",
    "        return\n",
    "    else:\n",
    "        print('The POINT is:', r)\n",
    "    \n",
    "    point = r\n",
    "    \n",
    "    while True:\n",
    "        s = input(\"\\nEnter <E> to exit, or enter any other key to continue: \")\n",
    "        if len(s) > 0 and s[0] in 'Ee':\n",
    "            return\n",
    "        r = roll()\n",
    "        print('You rolled a ', r)\n",
    "        if r == point:\n",
    "            print('You rolled the POINT and WON!\\n')\n",
    "            return\n",
    "        elif r == 7:\n",
    "            print('SEVEN OUT; you lose!\\n')        \n",
    "            return\n",
    "        \n",
    "def roll():\n",
    "    d1 = randint(1, 6)\n",
    "    d2 = randint(1, 6)\n",
    "    print('\\nDie 1 = ', d1, '/ ' 'Die 2 = ', d2)\n",
    "    return d1 + d2\n",
    "\n",
    "main()"
   ]
  }
 ],
 "metadata": {
  "kernelspec": {
   "display_name": "Python 3 (ipykernel)",
   "language": "python",
   "name": "python3"
  },
  "language_info": {
   "codemirror_mode": {
    "name": "ipython",
    "version": 3
   },
   "file_extension": ".py",
   "mimetype": "text/x-python",
   "name": "python",
   "nbconvert_exporter": "python",
   "pygments_lexer": "ipython3",
   "version": "3.10.12"
  }
 },
 "nbformat": 4,
 "nbformat_minor": 5
}
